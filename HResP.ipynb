{
  "nbformat": 4,
  "nbformat_minor": 0,
  "metadata": {
    "colab": {
      "provenance": [],
      "mount_file_id": "1-XBUoV7ywXyXeD2smmmFCQXzQrBgdVEj",
      "authorship_tag": "ABX9TyNCxc6ADllWa7qePYByOUyT",
      "include_colab_link": true
    },
    "kernelspec": {
      "name": "python3",
      "display_name": "Python 3"
    },
    "language_info": {
      "name": "python"
    }
  },
  "cells": [
    {
      "cell_type": "markdown",
      "metadata": {
        "id": "view-in-github",
        "colab_type": "text"
      },
      "source": [
        "<a href=\"https://colab.research.google.com/github/iqbal141290/HResP/blob/main/HResP.ipynb\" target=\"_parent\"><img src=\"https://colab.research.google.com/assets/colab-badge.svg\" alt=\"Open In Colab\"/></a>"
      ]
    },
    {
      "cell_type": "code",
      "execution_count": 4,
      "metadata": {
        "colab": {
          "base_uri": "https://localhost:8080/"
        },
        "id": "P30IFVxJB4ZI",
        "outputId": "04ccc72d-b0b1-4dc6-a926-b0784e5df241"
      },
      "outputs": [
        {
          "output_type": "stream",
          "name": "stdout",
          "text": [
            "H-RESP (Heave Response Program in Random Waves)\n",
            "Dibuat oleh: Muhammad Iqbal, S.T., M.T., Ph.D - Teknik Perkapalan UNDIP\n",
            "Tanggal: 3 Juni 2025\n",
            "\n",
            "\n",
            "=== INPUT PARAMETERS ===\n",
            "Kecepatan kapal (m/s): 3.654\n",
            "Panjang kapal (m): 30.977\n",
            "Tinggi Gelombang Signifikan, Hs (m): 1\n",
            "Peak Period, Tp (s): 3.5\n",
            "Gamma (JONSWAP): 3.3\n",
            "Heading (arah datang gelombang) dalam derajat: 180\n",
            "Masukkan nama file CSV (contoh: Heave.csv): /content/drive/MyDrive/Colab Notebooks/Heave.csv\n",
            "\n",
            "\n",
            "=== HASIL PERHITUNGAN ===\n",
            "m0 (energi heave): 0.0027\n",
            "m2 (energi kecepatan): 0.0107\n",
            "m4 (energi percepatan): 0.0464\n",
            "RMS Heave (m): 0.0522\n",
            "RMS Velocity (m/s): 0.1036\n",
            "RMS Acceleration (m/s²): 0.2154\n"
          ]
        }
      ],
      "source": [
        "print('H-RESP (Heave Response Program in Random Waves)')\n",
        "print('Dibuat oleh: Muhammad Iqbal, S.T., M.T., Ph.D - Teknik Perkapalan UNDIP')\n",
        "print('Tanggal: 3 Juni 2025')\n",
        "\n",
        "import numpy as np\n",
        "import pandas as pd\n",
        "import scipy.interpolate as interp\n",
        "from scipy.integrate import trapezoid\n",
        "\n",
        "# ==== INPUT DARI USER ====\n",
        "print('\\n\\n=== INPUT PARAMETERS ===')\n",
        "v = float(input('Kecepatan kapal (m/s): '))\n",
        "L = float(input('Panjang kapal (m): '))\n",
        "Hs = float(input('Tinggi Gelombang Signifikan, Hs (m): '))\n",
        "Tp = float(input('Peak Period, Tp (s): '))\n",
        "gama = float(input('Gamma (JONSWAP): '))\n",
        "heading_deg = float(input('Heading (arah datang gelombang) dalam derajat: '))\n",
        "heading = np.deg2rad(heading_deg)\n",
        "\n",
        "# ==== IMPORT DATA RAO DARI CSV ====\n",
        "file_path = input(\"Masukkan nama file CSV (contoh: Heave.csv): \").strip()\n",
        "df = pd.read_csv(file_path, sep='\\t') # Gunakan jika pemisah data berupa spasi\n",
        "#df = pd.read_csv(file_path, sep=';') # Gunakan jika pemisah data berupa ;\n",
        "#df = pd.read_csv(file_path) # Gunakan jika pemisah data berupa ,\n",
        "\n",
        "wave_ratio = df.iloc[:, 0].to_numpy()\n",
        "Heave_RAO = df.iloc[:, 1].to_numpy()\n",
        "\n",
        "# ==== PROSES GEOMETRI DAN GELOMBANG ====\n",
        "wave_length = wave_ratio * L\n",
        "k = 2 * np.pi / wave_length\n",
        "w = np.sqrt(k * 9.81)\n",
        "w_e = w * (1 - (w * v * np.cos(heading)) / 9.81)\n",
        "T_e = 2 * np.pi / w_e\n",
        "\n",
        "# ==== INTERPOLASI RAO ====\n",
        "no_points = len(Heave_RAO)\n",
        "x = w_e\n",
        "y = Heave_RAO\n",
        "xx = np.linspace(min(x), max(x), no_points)\n",
        "RAO = interp.CubicSpline(x, y)(xx)\n",
        "\n",
        "# ==== SPEKTRUM GELOMBANG (JONSWAP) ====\n",
        "ww = np.linspace(min(w), max(w), no_points)\n",
        "we = ww * (1 - (ww * v * np.cos(heading)) / 9.81)\n",
        "fp = 2 * np.pi / Tp\n",
        "fac1 = (320 * Hs**2) / Tp**4\n",
        "sigma = np.where(ww <= fp, 0.07, 0.09)\n",
        "Aa = np.exp(-((ww / fp - 1) / (sigma * np.sqrt(2)))**2)\n",
        "fac2 = ww**-5\n",
        "fac31 = np.exp(-5 / 4 * (ww / fp)**-4)\n",
        "fac4 = gama**Aa\n",
        "S = fac1 * fac2 * fac31 * fac4\n",
        "S_we = S / (1 - (2 * ww * v / 9.81) * np.cos(heading))\n",
        "S_we_inter = interp.CubicSpline(we, S_we)(xx)\n",
        "\n",
        "# ==== SPEKTRUM RESPON ====\n",
        "S_res = RAO**2 * S_we_inter\n",
        "velocity = xx**2 * RAO**2 * S_we_inter\n",
        "acceleration = xx**4 * S_res\n",
        "\n",
        "# ==== MOMEN DAN RMS ====\n",
        "m_0 = np.trapezoid(S_res, xx)\n",
        "m_2 = np.trapezoid(velocity, xx)\n",
        "m_4 = np.trapezoid(acceleration, xx)\n",
        "\n",
        "RMS_m0 = np.sqrt(m_0)\n",
        "RMS_m2 = np.sqrt(m_2)\n",
        "RMS_m4 = np.sqrt(m_4)\n",
        "\n",
        "# ==== OUTPUT ====\n",
        "\n",
        "print('\\n\\n=== HASIL PERHITUNGAN ===')\n",
        "print(f'm0 (energi heave): {m_0:.4f}')\n",
        "print(f'm2 (energi kecepatan): {m_2:.4f}')\n",
        "print(f'm4 (energi percepatan): {m_4:.4f}')\n",
        "print(f'RMS Heave (m): {RMS_m0:.4f}')\n",
        "print(f'RMS Velocity (m/s): {RMS_m2:.4f}')\n",
        "print(f'RMS Acceleration (m/s²): {RMS_m4:.4f}')\n"
      ]
    }
  ]
}